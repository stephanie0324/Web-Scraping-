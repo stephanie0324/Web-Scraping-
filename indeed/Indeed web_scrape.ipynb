{
 "cells": [
  {
   "cell_type": "markdown",
   "id": "b01a25de",
   "metadata": {},
   "source": [
    "# Imports"
   ]
  },
  {
   "cell_type": "code",
   "execution_count": 1,
   "id": "fa0c2d9c",
   "metadata": {
    "ExecuteTime": {
     "end_time": "2023-02-24T09:27:59.351583Z",
     "start_time": "2023-02-24T09:27:57.866284Z"
    }
   },
   "outputs": [],
   "source": [
    "from selenium import webdriver\n",
    "from selenium.webdriver.common.keys import Keys\n",
    "from datetime import datetime\n",
    "from selenium.webdriver.common.by import By\n",
    "from selenium.webdriver.support.ui import WebDriverWait\n",
    "from selenium.webdriver.support import expected_conditions as EC\n",
    "from selenium.webdriver.common.keys import Keys\n",
    "from selenium.common.exceptions import NoSuchElementException\n",
    "from time import time\n",
    "from time import sleep\n",
    "import pandas as pd\n",
    "from random import randint\n",
    "import requests\n",
    "from bs4 import BeautifulSoup\n",
    "import re\n",
    "import math\n",
    "import numpy as np"
   ]
  },
  {
   "cell_type": "markdown",
   "id": "c997aa0b",
   "metadata": {},
   "source": [
    "# Configs"
   ]
  },
  {
   "cell_type": "code",
   "execution_count": 2,
   "id": "81101d42",
   "metadata": {
    "ExecuteTime": {
     "end_time": "2023-02-24T09:27:59.364906Z",
     "start_time": "2023-02-24T09:27:59.356284Z"
    }
   },
   "outputs": [],
   "source": [
    "# login info\n",
    "# you need to login to Indeed First\n",
    "# you should change your email and password here \n",
    "my_mail = 'sc310542@gmail.com'\n",
    "my_password = 'p@ssword'"
   ]
  },
  {
   "cell_type": "code",
   "execution_count": 77,
   "id": "1c757f06",
   "metadata": {
    "ExecuteTime": {
     "end_time": "2023-02-25T08:36:02.022189Z",
     "start_time": "2023-02-25T08:36:01.988284Z"
    }
   },
   "outputs": [],
   "source": [
    "# This is where you add your company dictionary\n",
    "# it should be in a dict\n",
    "companys={'tsmc':['台積電'],'media_tech':['聯發科'],'中央研究院':[],'ASUS':[]}"
   ]
  },
  {
   "cell_type": "markdown",
   "id": "25796892",
   "metadata": {},
   "source": [
    "# Functions"
   ]
  },
  {
   "cell_type": "code",
   "execution_count": 52,
   "id": "25ff7f42",
   "metadata": {
    "ExecuteTime": {
     "end_time": "2023-02-24T10:12:45.852108Z",
     "start_time": "2023-02-24T10:12:45.832667Z"
    }
   },
   "outputs": [],
   "source": [
    "# get reviews\n",
    "#######################3\n",
    "# ['職位','狀態','標題','總分','勞逸平衡','薪酬/福利','工作保障/升遷制度','管理層','工作文化','評論','優點','缺點'])\n",
    "########################\n",
    "\n",
    "def get_reviews(soup) -> list:\n",
    "    \n",
    "    tmp_lst =[]\n",
    "    main_data = soup.find_all('div', {'class':'css-t3vkys eu4oa1w0'})\n",
    "    \n",
    "    for data in main_data:\n",
    "        record={}\n",
    "\n",
    "\n",
    "        try:\n",
    "            #\n",
    "            record['職位'] = data.find(\"a\",attrs={'class':\"css-y7yavv emf9s7v0\"}).get_text(strip=True)\n",
    "    #         狀態=data.find(\"!-- --\",attrs={}).get_text(strip=True)\n",
    "            record['總分'] = data.find(\"button\",attrs={\"class\":\"css-1c33izo e1wnkr790\"}).get_text(strip=True)\n",
    "\n",
    "            # get reviews\n",
    "            reviews = data.find_all(\"span\",attrs={\"class\":\"css-82l4gy eu4oa1w0\"})\n",
    "            if len(reviews)==3:\n",
    "                record['標題'] = reviews[0].get_text()\n",
    "                record['評論'] = reviews[1].get_text()\n",
    "                record['優點'] = ''\n",
    "                record['缺點'] = ''\n",
    "            else:\n",
    "                record['標題'] = reviews[0].get_text()\n",
    "                record['評論'] = reviews[1].get_text()\n",
    "                record['優點'] = reviews[3].get_text()\n",
    "                record['缺點'] = reviews[4].get_text()\n",
    "\n",
    "\n",
    "            # get other scores\n",
    "            elements = data.find_all(\"span\",attrs={\"class\":\"css-1pftocx e1wnkr790\"})\n",
    "            scores = data.find_all(\"div\",attrs={\"role\":\"img\"})\n",
    "            for i in range(len(elements)):\n",
    "                record[elements[i].get_text()] = scores[i]['aria-label'].split(\" \")[0].split('.')[0]         \n",
    "\n",
    "        except:\n",
    "            pass\n",
    "\n",
    "        tmp_lst.append(record)\n",
    "    return tmp_lst\n"
   ]
  },
  {
   "cell_type": "code",
   "execution_count": 73,
   "id": "a78aee38",
   "metadata": {
    "ExecuteTime": {
     "end_time": "2023-02-25T08:32:27.812053Z",
     "start_time": "2023-02-25T08:32:27.787008Z"
    }
   },
   "outputs": [],
   "source": [
    "\n",
    "def get_csv(company_name):\n",
    "    \n",
    "    ###################### GET TO PAGE #################################\n",
    "    # go to company review page\n",
    "    # avoid obscuring\n",
    "    webElement = driver.find_element_by_xpath('//a[@href = \"https://tw.indeed.com/companies\"]' )\n",
    "    driver.execute_script('arguments[0].click()', webElement)\n",
    "    driver.forward()\n",
    "    sleep(1)\n",
    "\n",
    "    # enter the company name\n",
    "    search_bar = driver.find_element_by_id(\"ifl-InputFormField-3\")\n",
    "    search_bar.send_keys(company_name)\n",
    "    driver.find_element_by_xpath('//button[@type = \"submit\"]' ).click() \n",
    "    driver.forward()\n",
    "    sleep(1)\n",
    "\n",
    "    # go to company page\n",
    "    driver.find_element_by_xpath('//div[@class=\"css-7lboi8 e1wnkr790\"]').click()\n",
    "    driver.forward()\n",
    "    sleep(1) \n",
    "\n",
    "    # go to company review page\n",
    "    driver.find_element_by_xpath('//div[@class=\"css-r228jg eu4oa1w0\"]').click()\n",
    "    driver.forward()\n",
    "    sleep(1) \n",
    "\n",
    "    # get to all review page\n",
    "    # 有可能沒有所有評論\n",
    "    try:\n",
    "        driver.find_element_by_xpath('//a[@class= \"css-hvq95c emf9s7v0\"]').click()\n",
    "        driver.forward()\n",
    "    except:\n",
    "        pass\n",
    "\n",
    "    ###################### REVIEW SECTION #################################\n",
    "    # get reviews\n",
    "    lst =[]\n",
    "    try:\n",
    "        while driver.find_element_by_xpath('//a[@title= \"下一個\"]'):\n",
    "            soup = BeautifulSoup(driver.page_source, 'lxml')\n",
    "            lst += get_reviews(soup)\n",
    "            driver.find_element_by_xpath('//a[@title= \"下一個\"]').click()\n",
    "            driver.forward()\n",
    "            sleep(5)\n",
    "    except:\n",
    "        soup = BeautifulSoup(driver.page_source, 'lxml')\n",
    "        lst += get_reviews(soup)\n",
    "\n",
    "    ##################### SAVE TO FILE #################################\n",
    "    df = pd.DataFrame(lst)\n",
    "    df.to_csv('./Data/Company_reviews/'+str(company_name)+'.csv')\n",
    "    \n",
    "    return len(df)"
   ]
  },
  {
   "cell_type": "markdown",
   "id": "0f30118c",
   "metadata": {},
   "source": [
    "# Auto Login"
   ]
  },
  {
   "cell_type": "code",
   "execution_count": 15,
   "id": "6c2236ac",
   "metadata": {
    "ExecuteTime": {
     "end_time": "2023-02-24T09:37:20.747664Z",
     "start_time": "2023-02-24T09:37:03.727766Z"
    }
   },
   "outputs": [],
   "source": [
    "# open a search website\n",
    "opts = webdriver.FirefoxOptions()\n",
    "opts.headless = True\n",
    "profile = webdriver.FirefoxProfile()\n",
    "driver = webdriver.Firefox()\n",
    "\n",
    "# the login page\n",
    "driver.get(\"https://www.indeed.com/account/login\")\n",
    "\n",
    "\n",
    "# use email to login instead of google or other websites \n",
    "email = driver.find_element_by_id(\"ifl-InputFormField-3\")\n",
    "email.send_keys(my_mail)\n",
    "driver.find_element_by_xpath('//button[@type = \"submit\"]' ).click() \n",
    "sleep(1)\n",
    "# next_page = driver.current_url\n",
    "driver.forward()\n",
    "# driver = driver.get(next_page)\n",
    "driver.find_element_by_id(\"auth-page-google-password-fallback\").click()\n",
    "sleep(1)\n",
    "driver.forward()\n",
    "password = driver.find_element_by_id(\"ifl-InputFormField-101\")\n",
    "password.send_keys(my_password)\n",
    "driver.find_element_by_xpath('//button[@type = \"submit\"]' ).click() \n",
    "driver.forward()\n",
    "sleep(5)\n"
   ]
  },
  {
   "cell_type": "markdown",
   "id": "aec0867f",
   "metadata": {},
   "source": [
    "# 搜尋企業"
   ]
  },
  {
   "cell_type": "markdown",
   "id": "9166decc",
   "metadata": {},
   "source": [
    "## A dictionary containing company names"
   ]
  },
  {
   "cell_type": "code",
   "execution_count": 78,
   "id": "deecf177",
   "metadata": {
    "ExecuteTime": {
     "end_time": "2023-02-25T08:37:37.408239Z",
     "start_time": "2023-02-25T08:36:04.586116Z"
    }
   },
   "outputs": [
    {
     "name": "stdout",
     "output_type": "stream",
     "text": [
      "Retrieving.... tsmc's comments\n",
      "Finish ! Got 54 reviews\n",
      "Retrieving.... media_tech's comments\n",
      "Finish ! Got 12 reviews\n",
      "Retrieving.... 中央研究院's comments\n",
      "Finish ! Got 14 reviews\n",
      "Retrieving.... ASUS's comments\n",
      "Finish ! Got 109 reviews\n"
     ]
    }
   ],
   "source": [
    "# get company reviews\n",
    "for company_name in companys: \n",
    "    \n",
    "    # you can remove the print if you like\n",
    "    \n",
    "    cnt =0\n",
    "    print(f'Retrieving.... {company_name}\\'s comments')\n",
    "    cnt = get_csv(company_name)\n",
    "    print(f'Finish ! Got {cnt} reviews')\n",
    "    "
   ]
  },
  {
   "cell_type": "markdown",
   "id": "03d3923d",
   "metadata": {},
   "source": [
    "## Just getting a specific company's comments"
   ]
  },
  {
   "cell_type": "code",
   "execution_count": 79,
   "id": "8fbbebcc",
   "metadata": {
    "ExecuteTime": {
     "end_time": "2023-02-25T08:37:48.465112Z",
     "start_time": "2023-02-25T08:37:37.430085Z"
    }
   },
   "outputs": [
    {
     "name": "stdout",
     "output_type": "stream",
     "text": [
      "Retrieving.... 統一企業's comments\n",
      "Finish ! Got 16 reviews\n"
     ]
    }
   ],
   "source": [
    "# add your company name here\n",
    "company_name = '統一企業'\n",
    "\n",
    "if len(company_name)>0:\n",
    "    print(f'Retrieving.... {company_name}\\'s comments')\n",
    "    cnt = get_csv(company_name)\n",
    "    print(f'Finish ! Got {cnt} reviews')\n",
    "else:\n",
    "    print(f'Re-enter the company\\'s name plzzzzzz')\n",
    "\n"
   ]
  },
  {
   "cell_type": "code",
   "execution_count": null,
   "id": "0fa36328",
   "metadata": {},
   "outputs": [],
   "source": []
  }
 ],
 "metadata": {
  "kernelspec": {
   "display_name": "steph_env",
   "language": "python",
   "name": "steph_env"
  },
  "language_info": {
   "codemirror_mode": {
    "name": "ipython",
    "version": 3
   },
   "file_extension": ".py",
   "mimetype": "text/x-python",
   "name": "python",
   "nbconvert_exporter": "python",
   "pygments_lexer": "ipython3",
   "version": "3.6.8"
  },
  "toc": {
   "base_numbering": 1,
   "nav_menu": {},
   "number_sections": true,
   "sideBar": true,
   "skip_h1_title": false,
   "title_cell": "Table of Contents",
   "title_sidebar": "Contents",
   "toc_cell": false,
   "toc_position": {},
   "toc_section_display": true,
   "toc_window_display": true
  }
 },
 "nbformat": 4,
 "nbformat_minor": 5
}
