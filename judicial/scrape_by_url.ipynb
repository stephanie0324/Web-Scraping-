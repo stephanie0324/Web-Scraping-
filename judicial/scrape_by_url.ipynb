{
 "cells": [
  {
   "cell_type": "markdown",
   "metadata": {},
   "source": [
    "# 司法院透過案號抓取檔案\n",
    "* 要爬取所有資料"
   ]
  },
  {
   "cell_type": "markdown",
   "metadata": {},
   "source": [
    "## Import & Install"
   ]
  },
  {
   "cell_type": "code",
   "execution_count": 3,
   "metadata": {},
   "outputs": [],
   "source": [
    "import requests\n",
    "from bs4 import BeautifulSoup\n",
    "import re\n",
    "import pandas as pd\n",
    "from datetime import datetime\n",
    "import math\n",
    "import re\n",
    "import enum\n",
    "from urls import urls"
   ]
  },
  {
   "cell_type": "code",
   "execution_count": 4,
   "metadata": {},
   "outputs": [],
   "source": [
    "# settings\n",
    "pd.set_option('display.precision', 0)"
   ]
  },
  {
   "cell_type": "code",
   "execution_count": 5,
   "metadata": {},
   "outputs": [],
   "source": [
    "\n",
    "\n",
    "labels = ['序號','裁判字號','裁判日期','裁判案由','裁判內容','螢光' ,'補充內容']"
   ]
  },
  {
   "cell_type": "code",
   "execution_count": 6,
   "metadata": {},
   "outputs": [],
   "source": [
    "# use beautiful soup to parse reviews\n",
    "# 直接找呈現100則評論的頁面\n",
    "df  = []\n",
    "for url in urls:\n",
    "    # Make a GET request to the iframe source URL\n",
    "    response = requests.get(url, verify=True)\n",
    "\n",
    "    # Check if the request was successful\n",
    "    if response.status_code == 200:\n",
    "        # Parse the HTML content of the response\n",
    "        soup = BeautifulSoup(response.content, 'html.parser')\n",
    "        contents = soup.find('div', class_ = 'int-table col-xs-8')\n",
    "        tmp = {}\n",
    "\n",
    "        col_th_elements = soup.find_all('div', class_='col-th')\n",
    "        col_td_elements = soup.find_all('div', class_='col-td')\n",
    "\n",
    "        # Iterate over the elements and extract text content\n",
    "        for col_th, col_td in zip(col_th_elements, col_td_elements):\n",
    "            col_name = col_th.text.strip()\n",
    "            col_value = col_td.text.strip()\n",
    "            tmp[col_name] = col_value\n",
    "\n",
    "        # content\n",
    "        content = ''\n",
    "        contents = soup.find('div', class_ = \"jud_content\")\n",
    "        if contents:\n",
    "            for c in contents.find_all('div'):\n",
    "                content +=c.text\n",
    "            tmp['content'] = content\n",
    "            df.append(tmp)           \n",
    "\n",
    "    else:\n",
    "        print(\"Failed to fetch iframe content:\", response.status_code)\n",
    "\n"
   ]
  },
  {
   "cell_type": "code",
   "execution_count": 7,
   "metadata": {},
   "outputs": [],
   "source": [
    "tmp_df = pd.DataFrame(df)"
   ]
  },
  {
   "cell_type": "code",
   "execution_count": 8,
   "metadata": {},
   "outputs": [
    {
     "data": {
      "text/html": [
       "<div>\n",
       "<style scoped>\n",
       "    .dataframe tbody tr th:only-of-type {\n",
       "        vertical-align: middle;\n",
       "    }\n",
       "\n",
       "    .dataframe tbody tr th {\n",
       "        vertical-align: top;\n",
       "    }\n",
       "\n",
       "    .dataframe thead th {\n",
       "        text-align: right;\n",
       "    }\n",
       "</style>\n",
       "<table border=\"1\" class=\"dataframe\">\n",
       "  <thead>\n",
       "    <tr style=\"text-align: right;\">\n",
       "      <th></th>\n",
       "      <th>裁判字號：</th>\n",
       "      <th>裁判日期：</th>\n",
       "      <th>裁判案由：</th>\n",
       "      <th>content</th>\n",
       "    </tr>\n",
       "  </thead>\n",
       "  <tbody>\n",
       "    <tr>\n",
       "      <th>0</th>\n",
       "      <td>臺北高等行政法院 高等庭 112 年度訴字第 64 號裁定</td>\n",
       "      <td>民國 113 年 03 月 21 日</td>\n",
       "      <td>就業保險法</td>\n",
       "      <td>臺北高等行政法院裁定                                    ...</td>\n",
       "    </tr>\n",
       "    <tr>\n",
       "      <th>1</th>\n",
       "      <td>臺灣桃園地方法院 112 年度附民字第 1246 號刑事判決</td>\n",
       "      <td>民國 113 年 03 月 21 日</td>\n",
       "      <td>請求賠償損害</td>\n",
       "      <td>臺灣桃園地方法院刑事附帶民事訴訟判決112年度附民字第1246號原    告    陳景清 ...</td>\n",
       "    </tr>\n",
       "    <tr>\n",
       "      <th>2</th>\n",
       "      <td>臺灣桃園地方法院 112 年度附民字第 1108 號刑事判決</td>\n",
       "      <td>民國 113 年 03 月 21 日</td>\n",
       "      <td>請求賠償損害</td>\n",
       "      <td>臺灣桃園地方法院刑事附帶民事訴訟判決112年度附民字第1108號原    告    李俊傑 ...</td>\n",
       "    </tr>\n",
       "    <tr>\n",
       "      <th>3</th>\n",
       "      <td>臺灣桃園地方法院 112 年度訴字第 584 號刑事判決</td>\n",
       "      <td>民國 113 年 03 月 21 日</td>\n",
       "      <td>詐欺等</td>\n",
       "      <td>臺灣桃園地方法院刑事判決112年度訴字第584號公  訴  人  臺灣桃園地方檢察署檢察官被...</td>\n",
       "    </tr>\n",
       "    <tr>\n",
       "      <th>4</th>\n",
       "      <td>臺灣高等法院 臺中分院 112 年度上訴字第 2977 號刑事裁定</td>\n",
       "      <td>民國 113 年 03 月 20 日</td>\n",
       "      <td>毒品危害防制條例等</td>\n",
       "      <td>臺灣高等法院臺中分院刑事裁定112年度上訴字第2977號上  訴  人  即  被  告  ...</td>\n",
       "    </tr>\n",
       "    <tr>\n",
       "      <th>5</th>\n",
       "      <td>臺灣高等法院 112 年度上訴字第 5556 號刑事判決</td>\n",
       "      <td>民國 113 年 03 月 14 日</td>\n",
       "      <td>侵占等</td>\n",
       "      <td>臺灣高等法院刑事判決112年度上訴字第5556號上  訴  人  臺灣桃園地方檢察署檢察官 ...</td>\n",
       "    </tr>\n",
       "    <tr>\n",
       "      <th>6</th>\n",
       "      <td>臺灣臺中地方法院 112 年度訴緝字第 267 號刑事判決</td>\n",
       "      <td>民國 113 年 03 月 12 日</td>\n",
       "      <td>妨害秩序等</td>\n",
       "      <td>臺灣臺中地方法院刑事判決112年度訴緝字第267號公  訴  人  臺灣臺中地方檢察署檢察官...</td>\n",
       "    </tr>\n",
       "    <tr>\n",
       "      <th>7</th>\n",
       "      <td>臺灣高等法院 112 年度上訴字第 5655 號刑事判決</td>\n",
       "      <td>民國 113 年 03 月 07 日</td>\n",
       "      <td>傷害等</td>\n",
       "      <td>臺灣高等法院刑事判決112年度上訴字第5655號上  訴  人  即  被  告  歐陽家麟...</td>\n",
       "    </tr>\n",
       "    <tr>\n",
       "      <th>8</th>\n",
       "      <td>臺北高等行政法院 高等庭 112 年度訴字第 525 號判決</td>\n",
       "      <td>民國 113 年 03 月 07 日</td>\n",
       "      <td>繼承登記</td>\n",
       "      <td>臺北高等行政法院判決高等行政訴訟庭第二庭112年度訴字第525號113年1月25日辯論終結原...</td>\n",
       "    </tr>\n",
       "    <tr>\n",
       "      <th>9</th>\n",
       "      <td>臺灣桃園地方法院 112 年度訴字第 1149 號刑事判決</td>\n",
       "      <td>民國 113 年 03 月 07 日</td>\n",
       "      <td>毒品危害防制條例</td>\n",
       "      <td>臺灣桃園地方法院刑事判決112年度訴字第1149號公  訴  人  臺灣桃園地方檢察署檢察官...</td>\n",
       "    </tr>\n",
       "    <tr>\n",
       "      <th>10</th>\n",
       "      <td>臺灣高雄地方法院 113 年度聲字第 405 號刑事裁定</td>\n",
       "      <td>民國 113 年 03 月 04 日</td>\n",
       "      <td>聲請發還扣押物</td>\n",
       "      <td>臺灣高雄地方法院刑事裁定113年度聲字第405號聲  請  人即  被  告  葉清正上列聲...</td>\n",
       "    </tr>\n",
       "  </tbody>\n",
       "</table>\n",
       "</div>"
      ],
      "text/plain": [
       "                                裁判字號：               裁判日期：      裁判案由：  \\\n",
       "0       臺北高等行政法院 高等庭 112 年度訴字第 64 號裁定  民國 113 年 03 月 21 日      就業保險法   \n",
       "1      臺灣桃園地方法院 112 年度附民字第 1246 號刑事判決  民國 113 年 03 月 21 日     請求賠償損害   \n",
       "2      臺灣桃園地方法院 112 年度附民字第 1108 號刑事判決  民國 113 年 03 月 21 日     請求賠償損害   \n",
       "3        臺灣桃園地方法院 112 年度訴字第 584 號刑事判決  民國 113 年 03 月 21 日        詐欺等   \n",
       "4   臺灣高等法院 臺中分院 112 年度上訴字第 2977 號刑事裁定  民國 113 年 03 月 20 日  毒品危害防制條例等   \n",
       "5        臺灣高等法院 112 年度上訴字第 5556 號刑事判決  民國 113 年 03 月 14 日        侵占等   \n",
       "6       臺灣臺中地方法院 112 年度訴緝字第 267 號刑事判決  民國 113 年 03 月 12 日      妨害秩序等   \n",
       "7        臺灣高等法院 112 年度上訴字第 5655 號刑事判決  民國 113 年 03 月 07 日        傷害等   \n",
       "8      臺北高等行政法院 高等庭 112 年度訴字第 525 號判決  民國 113 年 03 月 07 日       繼承登記   \n",
       "9       臺灣桃園地方法院 112 年度訴字第 1149 號刑事判決  民國 113 年 03 月 07 日   毒品危害防制條例   \n",
       "10       臺灣高雄地方法院 113 年度聲字第 405 號刑事裁定  民國 113 年 03 月 04 日    聲請發還扣押物   \n",
       "\n",
       "                                              content  \n",
       "0   臺北高等行政法院裁定                                    ...  \n",
       "1   臺灣桃園地方法院刑事附帶民事訴訟判決112年度附民字第1246號原    告    陳景清 ...  \n",
       "2   臺灣桃園地方法院刑事附帶民事訴訟判決112年度附民字第1108號原    告    李俊傑 ...  \n",
       "3   臺灣桃園地方法院刑事判決112年度訴字第584號公  訴  人  臺灣桃園地方檢察署檢察官被...  \n",
       "4   臺灣高等法院臺中分院刑事裁定112年度上訴字第2977號上  訴  人  即  被  告  ...  \n",
       "5   臺灣高等法院刑事判決112年度上訴字第5556號上  訴  人  臺灣桃園地方檢察署檢察官 ...  \n",
       "6   臺灣臺中地方法院刑事判決112年度訴緝字第267號公  訴  人  臺灣臺中地方檢察署檢察官...  \n",
       "7   臺灣高等法院刑事判決112年度上訴字第5655號上  訴  人  即  被  告  歐陽家麟...  \n",
       "8   臺北高等行政法院判決高等行政訴訟庭第二庭112年度訴字第525號113年1月25日辯論終結原...  \n",
       "9   臺灣桃園地方法院刑事判決112年度訴字第1149號公  訴  人  臺灣桃園地方檢察署檢察官...  \n",
       "10  臺灣高雄地方法院刑事裁定113年度聲字第405號聲  請  人即  被  告  葉清正上列聲...  "
      ]
     },
     "execution_count": 8,
     "metadata": {},
     "output_type": "execute_result"
    }
   ],
   "source": [
    "tmp_df"
   ]
  },
  {
   "cell_type": "code",
   "execution_count": 9,
   "metadata": {},
   "outputs": [],
   "source": [
    "tmp_df.to_csv('/home/B20711/Law_NER/data/112.csv', index=False)"
   ]
  },
  {
   "cell_type": "code",
   "execution_count": null,
   "metadata": {},
   "outputs": [],
   "source": []
  }
 ],
 "metadata": {
  "kernelspec": {
   "display_name": "py3.8",
   "language": "python",
   "name": "python3"
  },
  "language_info": {
   "codemirror_mode": {
    "name": "ipython",
    "version": 3
   },
   "file_extension": ".py",
   "mimetype": "text/x-python",
   "name": "python",
   "nbconvert_exporter": "python",
   "pygments_lexer": "ipython3",
   "version": "3.10.4"
  }
 },
 "nbformat": 4,
 "nbformat_minor": 2
}
