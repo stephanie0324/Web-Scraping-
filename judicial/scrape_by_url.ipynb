{
 "cells": [
  {
   "cell_type": "markdown",
   "metadata": {},
   "source": [
    "# 司法院透過案號抓取檔案\n",
    "* 要爬取所有資料"
   ]
  },
  {
   "cell_type": "markdown",
   "metadata": {},
   "source": [
    "## Import & Install"
   ]
  },
  {
   "cell_type": "code",
   "execution_count": 2,
   "metadata": {},
   "outputs": [],
   "source": [
    "import requests\n",
    "from bs4 import BeautifulSoup\n",
    "import re\n",
    "import pandas as pd\n",
    "from datetime import datetime\n",
    "import math\n",
    "import re\n",
    "import enum"
   ]
  },
  {
   "cell_type": "code",
   "execution_count": 3,
   "metadata": {},
   "outputs": [],
   "source": [
    "# settings\n",
    "pd.set_option('display.precision', 0)"
   ]
  },
  {
   "cell_type": "code",
   "execution_count": 4,
   "metadata": {},
   "outputs": [],
   "source": [
    "\n",
    "labels = ['序號','裁判字號','裁判日期','裁判案由','裁判內容','螢光' ,'補充內容']"
   ]
  },
  {
   "cell_type": "code",
   "execution_count": 5,
   "metadata": {},
   "outputs": [],
   "source": [
    "# use beautiful soup to parse reviews\n",
    "# 直接找呈現100則評論的頁面\n",
    "with open(\"./受監護宣告.txt\") as file:\n",
    "    urls = file.readlines()\n",
    "df  = []\n",
    "for url in urls:\n",
    "    # Make a GET request to the iframe source URL\n",
    "    response = requests.get(url, verify=True)\n",
    "\n",
    "    # Check if the request was successful\n",
    "    if response.status_code == 200:\n",
    "        # Parse the HTML content of the response\n",
    "        soup = BeautifulSoup(response.content, 'html.parser')\n",
    "        contents = soup.find('div', class_ = 'int-table col-xs-8')\n",
    "        tmp = {}\n",
    "\n",
    "        col_th_elements = soup.find_all('div', class_='col-th')\n",
    "        col_td_elements = soup.find_all('div', class_='col-td')\n",
    "\n",
    "        # Iterate over the elements and extract text content\n",
    "        for col_th, col_td in zip(col_th_elements, col_td_elements):\n",
    "            col_name = col_th.text.strip()\n",
    "            col_value = col_td.text.strip()\n",
    "            tmp[col_name] = col_value\n",
    "\n",
    "        # content\n",
    "        content = ''\n",
    "        contents = soup.find('div', class_ = \"jud_content\")\n",
    "        if contents:\n",
    "            for c in contents.find_all('div'):\n",
    "                content +=c.text\n",
    "            tmp['content'] = content\n",
    "            df.append(tmp)           \n",
    "\n",
    "    else:\n",
    "        print(\"Failed to fetch iframe content:\", response.status_code)\n",
    "\n"
   ]
  },
  {
   "cell_type": "code",
   "execution_count": 6,
   "metadata": {},
   "outputs": [],
   "source": [
    "tmp_df = pd.DataFrame(df)"
   ]
  },
  {
   "cell_type": "code",
   "execution_count": 7,
   "metadata": {},
   "outputs": [
    {
     "data": {
      "text/html": [
       "<div>\n",
       "<style scoped>\n",
       "    .dataframe tbody tr th:only-of-type {\n",
       "        vertical-align: middle;\n",
       "    }\n",
       "\n",
       "    .dataframe tbody tr th {\n",
       "        vertical-align: top;\n",
       "    }\n",
       "\n",
       "    .dataframe thead th {\n",
       "        text-align: right;\n",
       "    }\n",
       "</style>\n",
       "<table border=\"1\" class=\"dataframe\">\n",
       "  <thead>\n",
       "    <tr style=\"text-align: right;\">\n",
       "      <th></th>\n",
       "      <th>裁判字號：</th>\n",
       "      <th>裁判日期：</th>\n",
       "      <th>裁判案由：</th>\n",
       "      <th>content</th>\n",
       "    </tr>\n",
       "  </thead>\n",
       "  <tbody>\n",
       "    <tr>\n",
       "      <th>0</th>\n",
       "      <td>臺灣臺南地方法院 113 年度監宣字第 286 號民事裁定</td>\n",
       "      <td>民國 113 年 05 月 09 日</td>\n",
       "      <td>監護宣告</td>\n",
       "      <td>臺灣臺南地方法院民事裁定113年度監宣字第286號聲  請  人  施守益    住臺南市南...</td>\n",
       "    </tr>\n",
       "    <tr>\n",
       "      <th>1</th>\n",
       "      <td>臺灣臺中地方法院 113 年度監宣字第 370 號民事裁定</td>\n",
       "      <td>民國 113 年 05 月 09 日</td>\n",
       "      <td>許可監護人行為</td>\n",
       "      <td>臺灣臺中地方法院民事裁定113年度監宣字第370號聲  請  人  宋○○    住○○市○...</td>\n",
       "    </tr>\n",
       "    <tr>\n",
       "      <th>2</th>\n",
       "      <td>臺灣高等法院 臺中分院 112 年度重家上字第 31 號民事裁定</td>\n",
       "      <td>民國 113 年 05 月 08 日</td>\n",
       "      <td>分割遺產</td>\n",
       "      <td>臺灣高等法院臺中分院民事裁定112年度重家上字第31號上  訴  人  陳麗花    訴訟代...</td>\n",
       "    </tr>\n",
       "    <tr>\n",
       "      <th>3</th>\n",
       "      <td>臺灣高等法院 高雄分院 111 年度醫上字第 9 號民事判決</td>\n",
       "      <td>民國 113 年 05 月 08 日</td>\n",
       "      <td>侵權行為損害賠償</td>\n",
       "      <td>臺灣高等法院高雄分院民事判決111年度醫上字第9號上  訴  人  迦樂醫療財團法人迦樂醫院...</td>\n",
       "    </tr>\n",
       "    <tr>\n",
       "      <th>4</th>\n",
       "      <td>臺灣彰化地方法院 112 年度交易字第 807 號刑事判決</td>\n",
       "      <td>民國 113 年 05 月 08 日</td>\n",
       "      <td>過失致重傷害</td>\n",
       "      <td>臺灣彰化地方法院刑事判決112年度交易字第807號公  訴  人  臺灣彰化地方檢察署檢察官...</td>\n",
       "    </tr>\n",
       "    <tr>\n",
       "      <th>...</th>\n",
       "      <td>...</td>\n",
       "      <td>...</td>\n",
       "      <td>...</td>\n",
       "      <td>...</td>\n",
       "    </tr>\n",
       "    <tr>\n",
       "      <th>495</th>\n",
       "      <td>臺灣臺中地方法院 113 年度監宣字第 82 號民事裁定</td>\n",
       "      <td>民國 113 年 03 月 25 日</td>\n",
       "      <td>監護宣告</td>\n",
       "      <td>臺灣臺中地方法院民事裁定                                  ...</td>\n",
       "    </tr>\n",
       "    <tr>\n",
       "      <th>496</th>\n",
       "      <td>臺灣嘉義地方法院 113 年度輔宣字第 16 號民事裁定</td>\n",
       "      <td>民國 113 年 03 月 25 日</td>\n",
       "      <td>輔助宣告</td>\n",
       "      <td>臺灣嘉義地方法院民事裁定113年度輔宣字第16號聲  請  人  鄭慧芬  相  對  人 ...</td>\n",
       "    </tr>\n",
       "    <tr>\n",
       "      <th>497</th>\n",
       "      <td>臺灣士林地方法院 113 年度監宣字第 14 號民事裁定</td>\n",
       "      <td>民國 113 年 03 月 25 日</td>\n",
       "      <td>監護宣告</td>\n",
       "      <td>臺灣士林地方法院民事裁定113年度監宣字第14號聲  請  人  甲〇〇    住○○市○○...</td>\n",
       "    </tr>\n",
       "    <tr>\n",
       "      <th>498</th>\n",
       "      <td>臺灣苗栗地方法院 113 年度家聲抗字第 2 號民事裁定</td>\n",
       "      <td>民國 113 年 03 月 25 日</td>\n",
       "      <td>監護宣告</td>\n",
       "      <td>臺灣苗栗地方法院民事裁定113年度家聲抗字第2號抗  告  人  鄭秀珠    住○○市○○...</td>\n",
       "    </tr>\n",
       "    <tr>\n",
       "      <th>499</th>\n",
       "      <td>臺灣新北地方法院 112 年度易字第 1492 號刑事判決</td>\n",
       "      <td>民國 113 年 03 月 25 日</td>\n",
       "      <td>詐欺</td>\n",
       "      <td>臺灣新北地方法院刑事判決112年度易字第1492號公  訴  人  臺灣新北地方檢察署檢察官...</td>\n",
       "    </tr>\n",
       "  </tbody>\n",
       "</table>\n",
       "<p>500 rows × 4 columns</p>\n",
       "</div>"
      ],
      "text/plain": [
       "                                裁判字號：               裁判日期：     裁判案由：  \\\n",
       "0       臺灣臺南地方法院 113 年度監宣字第 286 號民事裁定  民國 113 年 05 月 09 日      監護宣告   \n",
       "1       臺灣臺中地方法院 113 年度監宣字第 370 號民事裁定  民國 113 年 05 月 09 日   許可監護人行為   \n",
       "2    臺灣高等法院 臺中分院 112 年度重家上字第 31 號民事裁定  民國 113 年 05 月 08 日      分割遺產   \n",
       "3      臺灣高等法院 高雄分院 111 年度醫上字第 9 號民事判決  民國 113 年 05 月 08 日  侵權行為損害賠償   \n",
       "4       臺灣彰化地方法院 112 年度交易字第 807 號刑事判決  民國 113 年 05 月 08 日    過失致重傷害   \n",
       "..                                ...                 ...       ...   \n",
       "495      臺灣臺中地方法院 113 年度監宣字第 82 號民事裁定  民國 113 年 03 月 25 日      監護宣告   \n",
       "496      臺灣嘉義地方法院 113 年度輔宣字第 16 號民事裁定  民國 113 年 03 月 25 日      輔助宣告   \n",
       "497      臺灣士林地方法院 113 年度監宣字第 14 號民事裁定  民國 113 年 03 月 25 日      監護宣告   \n",
       "498      臺灣苗栗地方法院 113 年度家聲抗字第 2 號民事裁定  民國 113 年 03 月 25 日      監護宣告   \n",
       "499     臺灣新北地方法院 112 年度易字第 1492 號刑事判決  民國 113 年 03 月 25 日        詐欺   \n",
       "\n",
       "                                               content  \n",
       "0    臺灣臺南地方法院民事裁定113年度監宣字第286號聲  請  人  施守益    住臺南市南...  \n",
       "1    臺灣臺中地方法院民事裁定113年度監宣字第370號聲  請  人  宋○○    住○○市○...  \n",
       "2    臺灣高等法院臺中分院民事裁定112年度重家上字第31號上  訴  人  陳麗花    訴訟代...  \n",
       "3    臺灣高等法院高雄分院民事判決111年度醫上字第9號上  訴  人  迦樂醫療財團法人迦樂醫院...  \n",
       "4    臺灣彰化地方法院刑事判決112年度交易字第807號公  訴  人  臺灣彰化地方檢察署檢察官...  \n",
       "..                                                 ...  \n",
       "495  臺灣臺中地方法院民事裁定                                  ...  \n",
       "496  臺灣嘉義地方法院民事裁定113年度輔宣字第16號聲  請  人  鄭慧芬  相  對  人 ...  \n",
       "497  臺灣士林地方法院民事裁定113年度監宣字第14號聲  請  人  甲〇〇    住○○市○○...  \n",
       "498  臺灣苗栗地方法院民事裁定113年度家聲抗字第2號抗  告  人  鄭秀珠    住○○市○○...  \n",
       "499  臺灣新北地方法院刑事判決112年度易字第1492號公  訴  人  臺灣新北地方檢察署檢察官...  \n",
       "\n",
       "[500 rows x 4 columns]"
      ]
     },
     "execution_count": 7,
     "metadata": {},
     "output_type": "execute_result"
    }
   ],
   "source": [
    "tmp_df"
   ]
  },
  {
   "cell_type": "code",
   "execution_count": 8,
   "metadata": {},
   "outputs": [],
   "source": [
    "tmp_df.to_csv('/home/B20711/Law_NER/data/受監護宣告.csv', index=False)"
   ]
  },
  {
   "cell_type": "code",
   "execution_count": null,
   "metadata": {},
   "outputs": [],
   "source": []
  }
 ],
 "metadata": {
  "kernelspec": {
   "display_name": "py3.8",
   "language": "python",
   "name": "python3"
  },
  "language_info": {
   "codemirror_mode": {
    "name": "ipython",
    "version": 3
   },
   "file_extension": ".py",
   "mimetype": "text/x-python",
   "name": "python",
   "nbconvert_exporter": "python",
   "pygments_lexer": "ipython3",
   "version": "3.6.9"
  }
 },
 "nbformat": 4,
 "nbformat_minor": 2
}
