{
 "cells": [
  {
   "cell_type": "markdown",
   "metadata": {},
   "source": [
    "# 司法院透過案號抓取檔案\n",
    "* 要爬取所有資料"
   ]
  },
  {
   "cell_type": "markdown",
   "metadata": {},
   "source": [
    "## Import & Install"
   ]
  },
  {
   "cell_type": "code",
   "execution_count": 1,
   "metadata": {},
   "outputs": [],
   "source": [
    "import requests\n",
    "from bs4 import BeautifulSoup\n",
    "import re\n",
    "import pandas as pd\n",
    "from datetime import datetime\n",
    "import math\n",
    "import re\n",
    "import enum"
   ]
  },
  {
   "cell_type": "code",
   "execution_count": 2,
   "metadata": {},
   "outputs": [],
   "source": [
    "# settings\n",
    "pd.set_option('display.precision', 0)"
   ]
  },
  {
   "cell_type": "code",
   "execution_count": null,
   "metadata": {},
   "outputs": [],
   "source": []
  },
  {
   "cell_type": "code",
   "execution_count": 114,
   "metadata": {},
   "outputs": [],
   "source": [
    "urls = [\n",
    "\"https://judgment.judicial.gov.tw/FJUD/data.aspx?ty=JD&id=TPHM%2c112%2c%u91cd%u4e0a%u66f4%u4e8c%2c20%2c20231220%2c1\",\n",
    "\"https://judgment.judicial.gov.tw/FJUD/data.aspx?ty=JD&id=TCHM%2c112%2c%e6%8a%97%2c611%2c20230731%2c2\",\n",
    "\"https://judgment.judicial.gov.tw/FJUD/data.aspx?ty=JD&id=TPHM%2c110%2c%e9%87%8d%e4%b8%8a%e6%9b%b4%e4%b8%80%2c26%2c20230131%2c1\",\n",
    "\"https://judgment.judicial.gov.tw/FJUD/data.aspx?ty=JD&id=TTDV%2c107%2c%e9%87%8d%e8%a8%b4%2c21%2c20211228%2c1\",\n",
    "\"https://judgment.judicial.gov.tw/FJUD/data.aspx?ty=JD&id=TPHM%2c107%2c%e4%b8%8a%e8%a8%b4%2c238%2c20200813%2c2\",\n",
    "\"https://judgment.judicial.gov.tw/FJUD/data.aspx?ty=JD&id=TPDV%2c105%2c%e8%a8%b4%2c123%2c20200630%2c4\",\n",
    "\"https://judgment.judicial.gov.tw/FJUD/data.aspx?ty=JD&id=TPHM%2c107%2c%e4%b8%8a%e8%a8%b4%2c238%2c20200319%2c1\",\n",
    "\"https://judgment.judicial.gov.tw/FJUD/data.aspx?ty=JD&id=TYDM%2c107%2c%e6%98%93%2c714%2c20200121%2c1\",\n",
    "\"https://judgment.judicial.gov.tw/FJUD/data.aspx?ty=JD&id=TPDV%2c105%2c%e8%a8%b4%2c123%2c20190222%2c3\",\n",
    "\"https://judgment.judicial.gov.tw/FJUD/data.aspx?ty=JD&id=NTDM%2c107%2c%e8%a8%b4%2c10%2c20180823%2c1\"\n",
    "\n",
    "\n",
    "\n",
    "\n",
    "]\n",
    "\n",
    "labels = ['序號','裁判字號','裁判日期','裁判案由','裁判內容','螢光' ,'補充內容']"
   ]
  },
  {
   "cell_type": "code",
   "execution_count": 121,
   "metadata": {},
   "outputs": [],
   "source": [
    "# use beautiful soup to parse reviews\n",
    "# 直接找呈現100則評論的頁面\n",
    "df  = []\n",
    "for url in urls:\n",
    "    # Make a GET request to the iframe source URL\n",
    "    response = requests.get(url, verify=True)\n",
    "\n",
    "    # Check if the request was successful\n",
    "    if response.status_code == 200:\n",
    "        # Parse the HTML content of the response\n",
    "        soup = BeautifulSoup(response.content, 'html.parser')\n",
    "        contents = soup.find('div', class_ = 'int-table col-xs-8')\n",
    "        tmp = {}\n",
    "\n",
    "        col_th_elements = soup.find_all('div', class_='col-th')\n",
    "        col_td_elements = soup.find_all('div', class_='col-td')\n",
    "\n",
    "        # Iterate over the elements and extract text content\n",
    "        for col_th, col_td in zip(col_th_elements, col_td_elements):\n",
    "            col_name = col_th.text.strip()\n",
    "            col_value = col_td.text.strip()\n",
    "            tmp[col_name] = col_value\n",
    "\n",
    "        # content\n",
    "        content = ''\n",
    "        contents = soup.find('div', class_ = \"jud_content\")\n",
    "        for c in contents.find_all('div'):\n",
    "            content +=c.text\n",
    "        tmp['content'] = content\n",
    "        df.append(tmp)           \n",
    "\n",
    "    else:\n",
    "        print(\"Failed to fetch iframe content:\", response.status_code)\n",
    "\n"
   ]
  },
  {
   "cell_type": "code",
   "execution_count": 122,
   "metadata": {},
   "outputs": [],
   "source": [
    "tmp_df = pd.DataFrame(df)"
   ]
  },
  {
   "cell_type": "code",
   "execution_count": 123,
   "metadata": {},
   "outputs": [
    {
     "data": {
      "text/html": [
       "<div>\n",
       "<style scoped>\n",
       "    .dataframe tbody tr th:only-of-type {\n",
       "        vertical-align: middle;\n",
       "    }\n",
       "\n",
       "    .dataframe tbody tr th {\n",
       "        vertical-align: top;\n",
       "    }\n",
       "\n",
       "    .dataframe thead th {\n",
       "        text-align: right;\n",
       "    }\n",
       "</style>\n",
       "<table border=\"1\" class=\"dataframe\">\n",
       "  <thead>\n",
       "    <tr style=\"text-align: right;\">\n",
       "      <th></th>\n",
       "      <th>裁判字號：</th>\n",
       "      <th>裁判日期：</th>\n",
       "      <th>裁判案由：</th>\n",
       "      <th>content</th>\n",
       "    </tr>\n",
       "  </thead>\n",
       "  <tbody>\n",
       "    <tr>\n",
       "      <th>0</th>\n",
       "      <td>臺灣高等法院 112 年度重上更二字第 20 號刑事判決</td>\n",
       "      <td>民國 112 年 12 月 20 日</td>\n",
       "      <td>偽造有價證券等</td>\n",
       "      <td>臺灣高等法院刑事判決112年度重上更二字第20號上  訴  人  即  被  告  黃宏裕指...</td>\n",
       "    </tr>\n",
       "    <tr>\n",
       "      <th>1</th>\n",
       "      <td>臺灣高等法院 臺中分院 112 年度抗字第 611 號刑事裁定</td>\n",
       "      <td>民國 112 年 07 月 31 日</td>\n",
       "      <td>聲明異議</td>\n",
       "      <td>臺灣高等法院臺中分院刑事裁定　112年度抗字第611號抗告人  即聲明異議人  林君鴻上列抗...</td>\n",
       "    </tr>\n",
       "    <tr>\n",
       "      <th>2</th>\n",
       "      <td>臺灣高等法院 110 年度重上更一字第 26 號刑事判決</td>\n",
       "      <td>民國 112 年 01 月 31 日</td>\n",
       "      <td>偽造有價證券等</td>\n",
       "      <td>臺灣高等法院刑事判決　110年度重上更一字第26號上  訴  人  即  被  告  黃宏裕...</td>\n",
       "    </tr>\n",
       "    <tr>\n",
       "      <th>3</th>\n",
       "      <td>臺灣臺東地方法院 107 年度重訴字第 21 號民事判決</td>\n",
       "      <td>民國 110 年 12 月 28 日</td>\n",
       "      <td>損害賠償</td>\n",
       "      <td>臺灣臺東地方法院民事判決                                  ...</td>\n",
       "    </tr>\n",
       "    <tr>\n",
       "      <th>4</th>\n",
       "      <td>臺灣高等法院 107 年度上訴字第 238 號刑事判決</td>\n",
       "      <td>民國 109 年 08 月 13 日</td>\n",
       "      <td>偽造有價證券等</td>\n",
       "      <td>臺灣高等法院刑事判決107年度上訴字第238號上  訴  人  即  被  告  黃宏裕選任...</td>\n",
       "    </tr>\n",
       "    <tr>\n",
       "      <th>5</th>\n",
       "      <td>臺灣臺北地方法院 105 年度訴字第 123 號民事判決</td>\n",
       "      <td>民國 109 年 06 月 30 日</td>\n",
       "      <td>給付貨款</td>\n",
       "      <td>臺灣臺北地方法院民事判決                                  ...</td>\n",
       "    </tr>\n",
       "    <tr>\n",
       "      <th>6</th>\n",
       "      <td>臺灣高等法院 107 年度上訴字第 238 號刑事裁定</td>\n",
       "      <td>民國 109 年 03 月 19 日</td>\n",
       "      <td>偽造有價證券等</td>\n",
       "      <td>臺灣高等法院刑事裁定107年度上訴字第238號上  訴  人  即  被  告  黃宏裕選任...</td>\n",
       "    </tr>\n",
       "    <tr>\n",
       "      <th>7</th>\n",
       "      <td>臺灣桃園地方法院 107 年度易字第 714 號刑事判決</td>\n",
       "      <td>民國 109 年 01 月 21 日</td>\n",
       "      <td>詐欺</td>\n",
       "      <td>臺灣桃園地方法院刑事判決　　　　　　　 107年度易字第714號\\r\\n公　訴　人　臺灣桃園...</td>\n",
       "    </tr>\n",
       "    <tr>\n",
       "      <th>8</th>\n",
       "      <td>臺灣臺北地方法院 105 年度訴字第 123 號民事裁定</td>\n",
       "      <td>民國 108 年 02 月 22 日</td>\n",
       "      <td>給付貨款</td>\n",
       "      <td>臺灣臺北地方法院民事裁定　　　　　　　105年度訴字第123號\\r\\n原　　　告\\r\\n即反...</td>\n",
       "    </tr>\n",
       "    <tr>\n",
       "      <th>9</th>\n",
       "      <td>臺灣南投地方法院 107 年度訴字第 10 號刑事判決</td>\n",
       "      <td>民國 107 年 08 月 23 日</td>\n",
       "      <td>違反槍砲彈藥刀械管制條例</td>\n",
       "      <td>臺灣南投地方法院刑事判決　　　　　　　 107年度訴字第10號\\r\\n公　訴　人　臺灣南投地...</td>\n",
       "    </tr>\n",
       "  </tbody>\n",
       "</table>\n",
       "</div>"
      ],
      "text/plain": [
       "                             裁判字號：               裁判日期：         裁判案由：  \\\n",
       "0     臺灣高等法院 112 年度重上更二字第 20 號刑事判決  民國 112 年 12 月 20 日       偽造有價證券等   \n",
       "1  臺灣高等法院 臺中分院 112 年度抗字第 611 號刑事裁定  民國 112 年 07 月 31 日          聲明異議   \n",
       "2     臺灣高等法院 110 年度重上更一字第 26 號刑事判決  民國 112 年 01 月 31 日       偽造有價證券等   \n",
       "3     臺灣臺東地方法院 107 年度重訴字第 21 號民事判決  民國 110 年 12 月 28 日          損害賠償   \n",
       "4      臺灣高等法院 107 年度上訴字第 238 號刑事判決  民國 109 年 08 月 13 日       偽造有價證券等   \n",
       "5     臺灣臺北地方法院 105 年度訴字第 123 號民事判決  民國 109 年 06 月 30 日          給付貨款   \n",
       "6      臺灣高等法院 107 年度上訴字第 238 號刑事裁定  民國 109 年 03 月 19 日       偽造有價證券等   \n",
       "7     臺灣桃園地方法院 107 年度易字第 714 號刑事判決  民國 109 年 01 月 21 日            詐欺   \n",
       "8     臺灣臺北地方法院 105 年度訴字第 123 號民事裁定  民國 108 年 02 月 22 日          給付貨款   \n",
       "9      臺灣南投地方法院 107 年度訴字第 10 號刑事判決  民國 107 年 08 月 23 日  違反槍砲彈藥刀械管制條例   \n",
       "\n",
       "                                             content  \n",
       "0  臺灣高等法院刑事判決112年度重上更二字第20號上  訴  人  即  被  告  黃宏裕指...  \n",
       "1  臺灣高等法院臺中分院刑事裁定　112年度抗字第611號抗告人  即聲明異議人  林君鴻上列抗...  \n",
       "2  臺灣高等法院刑事判決　110年度重上更一字第26號上  訴  人  即  被  告  黃宏裕...  \n",
       "3  臺灣臺東地方法院民事判決                                  ...  \n",
       "4  臺灣高等法院刑事判決107年度上訴字第238號上  訴  人  即  被  告  黃宏裕選任...  \n",
       "5  臺灣臺北地方法院民事判決                                  ...  \n",
       "6  臺灣高等法院刑事裁定107年度上訴字第238號上  訴  人  即  被  告  黃宏裕選任...  \n",
       "7  臺灣桃園地方法院刑事判決　　　　　　　 107年度易字第714號\\r\\n公　訴　人　臺灣桃園...  \n",
       "8  臺灣臺北地方法院民事裁定　　　　　　　105年度訴字第123號\\r\\n原　　　告\\r\\n即反...  \n",
       "9  臺灣南投地方法院刑事判決　　　　　　　 107年度訴字第10號\\r\\n公　訴　人　臺灣南投地...  "
      ]
     },
     "execution_count": 123,
     "metadata": {},
     "output_type": "execute_result"
    }
   ],
   "source": [
    "tmp_df"
   ]
  },
  {
   "cell_type": "code",
   "execution_count": null,
   "metadata": {},
   "outputs": [],
   "source": []
  }
 ],
 "metadata": {
  "kernelspec": {
   "display_name": "py3.8",
   "language": "python",
   "name": "python3"
  },
  "language_info": {
   "codemirror_mode": {
    "name": "ipython",
    "version": 3
   },
   "file_extension": ".py",
   "mimetype": "text/x-python",
   "name": "python",
   "nbconvert_exporter": "python",
   "pygments_lexer": "ipython3",
   "version": "3.10.4"
  }
 },
 "nbformat": 4,
 "nbformat_minor": 2
}
