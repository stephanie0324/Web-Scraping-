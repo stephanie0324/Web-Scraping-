{
 "cells": [
  {
   "cell_type": "markdown",
   "metadata": {},
   "source": [
    "# 抓取所有搜搜尋下所有檔案url"
   ]
  },
  {
   "cell_type": "markdown",
   "metadata": {},
   "source": [
    "## Import & Install"
   ]
  },
  {
   "cell_type": "code",
   "execution_count": 4,
   "metadata": {},
   "outputs": [],
   "source": [
    "from selenium import webdriver\n",
    "from selenium.webdriver.chrome.service import Service as ChromeService\n",
    "from webdriver_manager.chrome import ChromeDriverManager"
   ]
  },
  {
   "cell_type": "code",
   "execution_count": 5,
   "metadata": {},
   "outputs": [],
   "source": [
    "INPUT_URL = 'https://judgment.judicial.gov.tw/FJUD/default.aspx'\n",
    "\n",
    "# open a search website\n",
    "driver = webdriver.Chrome(service=ChromeService(ChromeDriverManager().install()))\n",
    "\n",
    "\n",
    "driver.get(INPUT_URL)\n",
    "\n",
    "search_input = input(\"想要搜尋的案件: \") \n",
    "search_bar = driver.find_element(By.ID, \"txtKW\")\n",
    "search_bar.send_keys(search_input)\n",
    "\n",
    "\n",
    "driver.find_element(By.ID, \"btnSimpleQry\").click() \n",
    "driver.forward()\n",
    "\n",
    "element_path = driver.find_element(By.XPATH, '//*[@id=\"iframe-data\"]').get_attribute(\"src\")\n",
    "driver.get(element_path)\n",
    "\n",
    "idx = 0\n",
    "urls= []\n",
    "while True:\n",
    "    elements = driver.find_elements(By.XPATH, '//*[@id=\"hlTitle\"]')\n",
    "    \n",
    "    for element in elements:\n",
    "        urls.append(element.get_attribute('href'))\n",
    "    try:\n",
    "        driver.find_element(By.ID,'hlNext').click()\n",
    "        driver.forward()\n",
    "        idx+=1\n",
    "    except:\n",
    "        break\n",
    "\n",
    "driver.quit()"
   ]
  },
  {
   "cell_type": "code",
   "execution_count": 6,
   "metadata": {},
   "outputs": [],
   "source": [
    "with open(str(search_input)+'.txt', 'w') as f:\n",
    "    for url in urls:\n",
    "        f.write(url + '\\n')"
   ]
  },
  {
   "cell_type": "code",
   "execution_count": null,
   "metadata": {},
   "outputs": [],
   "source": []
  }
 ],
 "metadata": {
  "kernelspec": {
   "display_name": "py3.8",
   "language": "python",
   "name": "python3"
  },
  "language_info": {
   "codemirror_mode": {
    "name": "ipython",
    "version": 3
   },
   "file_extension": ".py",
   "mimetype": "text/x-python",
   "name": "python",
   "nbconvert_exporter": "python",
   "pygments_lexer": "ipython3",
   "version": "3.6.9"
  }
 },
 "nbformat": 4,
 "nbformat_minor": 2
}
