{
 "cells": [
  {
   "cell_type": "markdown",
   "metadata": {},
   "source": [
    "# 抓取所有搜搜尋下所有檔案url"
   ]
  },
  {
   "cell_type": "markdown",
   "metadata": {},
   "source": [
    "## Import & Install"
   ]
  },
  {
   "cell_type": "code",
   "execution_count": 4,
   "metadata": {},
   "outputs": [],
   "source": [
    "from selenium import webdriver\n",
    "from selenium.webdriver.common.by import By"
   ]
  },
  {
   "cell_type": "code",
   "execution_count": 5,
   "metadata": {},
   "outputs": [],
   "source": [
    "INPUT_URL = 'https://judgment.judicial.gov.tw/FJUD/qryresultlst.aspx?ty=JUDBOOK&q=d13e25d98336af71b87b57551e946040'"
   ]
  },
  {
   "cell_type": "code",
   "execution_count": 6,
   "metadata": {},
   "outputs": [],
   "source": [
    "# open a search website\n",
    "opts = webdriver.FirefoxOptions()\n",
    "opts.headless = True\n",
    "profile = webdriver.FirefoxProfile()\n",
    "driver = webdriver.Firefox()\n",
    "\n",
    "driver.get(INPUT_URL)\n",
    "\n",
    "num_of_records = int(driver.find_element(By.XPATH,'//*[@id=\"plPager\"]').text.split(\" \")[1])\n",
    "\n",
    "idx = 0\n",
    "urls= []\n",
    "\n",
    "while True:\n",
    "    elements = driver.find_elements(By.ID,'hlTitle')\n",
    "    \n",
    "    for element in elements:\n",
    "        urls.append(element.get_attribute('href'))\n",
    "    try:\n",
    "        driver.find_element(By.ID,'hlNext').click()\n",
    "        driver.forward()\n",
    "        idx+=1\n",
    "    except:\n",
    "        break\n",
    "\n",
    "driver.quit()\n",
    "                                              "
   ]
  },
  {
   "cell_type": "code",
   "execution_count": 8,
   "metadata": {},
   "outputs": [],
   "source": [
    "with open('urls.txt', 'w') as f:\n",
    "    for url in urls:\n",
    "        f.write(url + '\\n')"
   ]
  },
  {
   "cell_type": "code",
   "execution_count": null,
   "metadata": {},
   "outputs": [],
   "source": []
  }
 ],
 "metadata": {
  "kernelspec": {
   "display_name": "py3.8",
   "language": "python",
   "name": "python3"
  },
  "language_info": {
   "codemirror_mode": {
    "name": "ipython",
    "version": 3
   },
   "file_extension": ".py",
   "mimetype": "text/x-python",
   "name": "python",
   "nbconvert_exporter": "python",
   "pygments_lexer": "ipython3",
   "version": "3.10.13"
  }
 },
 "nbformat": 4,
 "nbformat_minor": 2
}
