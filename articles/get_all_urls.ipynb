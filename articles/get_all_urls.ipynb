{
 "cells": [
  {
   "cell_type": "markdown",
   "metadata": {},
   "source": [
    "# 抓取所有搜搜尋下所有檔案url"
   ]
  },
  {
   "cell_type": "markdown",
   "metadata": {},
   "source": [
    "## Import & Install"
   ]
  },
  {
   "cell_type": "code",
   "execution_count": 2,
   "metadata": {},
   "outputs": [],
   "source": [
    "from selenium import webdriver\n",
    "from selenium.webdriver.common.by import By\n",
    "from selenium.webdriver.chrome.service import Service"
   ]
  },
  {
   "cell_type": "markdown",
   "metadata": {},
   "source": [
    "##### IEA"
   ]
  },
  {
   "cell_type": "code",
   "execution_count": 24,
   "metadata": {},
   "outputs": [],
   "source": [
    "INPUT_URL = 'https://www.iea.org/search/analysis?q=hydrogen%20energy'\n",
    "\n",
    "all_urls = []\n",
    "\n",
    "driver = webdriver.Chrome(service=Service(\"/Users/stephanie/.wdm/drivers/chromedriver/mac64/124.0.6367.201/chromedriver-mac-arm64/chromedriver\"))\n",
    "driver.get(INPUT_URL)\n",
    "\n",
    "while True:\n",
    "    elements = driver.find_elements(By.CSS_SELECTOR, 'ul.m-card-listing a')\n",
    "    for element in elements:\n",
    "        all_urls.append(element.get_attribute('href'))\n",
    "\n",
    "    next_button = driver.find_element(By.CSS_SELECTOR, '.m-pagination__btn.m-pagination__btn--next')\n",
    "    if next_button.get_attribute('href'):\n",
    "        href = next_button.get_attribute('href')\n",
    "        driver.get(href)\n",
    "    else:\n",
    "        break\n",
    "\n",
    "driver.quit()\n"
   ]
  },
  {
   "cell_type": "markdown",
   "metadata": {},
   "source": [
    "#### World Resource Institue"
   ]
  },
  {
   "cell_type": "code",
   "execution_count": 19,
   "metadata": {},
   "outputs": [],
   "source": [
    "INPUT_URL = 'https://www.wri.org/search?keys=hydrogen%20energy&f%5B0%5D=content_type%3Aarticle&page={cnt}'\n",
    "\n",
    "all_urls = []\n",
    "cnt = 0 \n",
    "\n",
    "driver = webdriver.Chrome(service=Service(\"/Users/stephanie/.wdm/drivers/chromedriver/mac64/124.0.6367.201/chromedriver-mac-arm64/chromedriver\"))\n",
    "driver.get(INPUT_URL)\n",
    "\n",
    "while True:\n",
    "    elements = driver.find_elements(By.CSS_SELECTOR, '.search-results.margin-bottom-sm.views-row div a')\n",
    "    for element in elements:\n",
    "        all_urls.append(element.get_attribute('href'))\n",
    "\n",
    "    next_button = driver.find_elements(By.CSS_SELECTOR, '.pager__item.pager__item--last a')\n",
    "    if next_button:\n",
    "        cnt += 1\n",
    "        driver.get(INPUT_URL.format(cnt=cnt))\n",
    "    else:\n",
    "        break\n",
    "\n",
    "\n",
    "\n",
    "driver.quit()\n"
   ]
  },
  {
   "cell_type": "markdown",
   "metadata": {},
   "source": [
    "### Store Results"
   ]
  },
  {
   "cell_type": "code",
   "execution_count": 21,
   "metadata": {},
   "outputs": [],
   "source": [
    "with open(\"WRI_hydrogen_energy\"+'.txt', 'w') as f:\n",
    "    for url in all_urls:\n",
    "        f.write(url + '\\n')"
   ]
  }
 ],
 "metadata": {
  "kernelspec": {
   "display_name": "py3.8",
   "language": "python",
   "name": "python3"
  },
  "language_info": {
   "codemirror_mode": {
    "name": "ipython",
    "version": 3
   },
   "file_extension": ".py",
   "mimetype": "text/x-python",
   "name": "python",
   "nbconvert_exporter": "python",
   "pygments_lexer": "ipython3",
   "version": "3.8.19"
  }
 },
 "nbformat": 4,
 "nbformat_minor": 2
}
